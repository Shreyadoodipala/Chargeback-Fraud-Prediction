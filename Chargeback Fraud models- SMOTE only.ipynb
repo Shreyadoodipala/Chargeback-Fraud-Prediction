{
 "cells": [
  {
   "cell_type": "code",
   "execution_count": null,
   "id": "97fda2aa-5637-4077-9535-94862690742b",
   "metadata": {},
   "outputs": [],
   "source": [
    "import pandas as pd\n",
    "import numpy as np\n",
    "\n",
    "import matplotlib.pyplot as plt\n",
    "import seaborn as sns\n",
    "\n",
    "from imblearn.over_sampling import SMOTENC\n",
    "from sklearn.model_selection import train_test_split\n",
    "from sklearn.metrics import accuracy_score, precision_score, recall_score, f1_score, classification_report, roc_auc_score, confusion_matrix"
   ]
  },
  {
   "cell_type": "code",
   "execution_count": null,
   "id": "d66b1c7e-5672-43d3-98a3-322a135d1dfb",
   "metadata": {},
   "outputs": [],
   "source": [
    "from sklearn.pipeline import Pipeline\r\n",
    "from sklearn.neighbors import (NeighborhoodComponentsAnalysis,KNeighborsClassifier)\n",
    "from sklearn.tree import DecisionTreeClassifier\n",
    "from sklearn.ensemble import AdaBoostClassifier, RandomForestClassifier, StackingClassifier\n",
    "import xgboost as xgb"
   ]
  },
  {
   "cell_type": "markdown",
   "id": "9bfd2d50-e8a9-4dd2-accf-afc10c724a91",
   "metadata": {},
   "source": [
    "# Loading and Preprocessing the dataset"
   ]
  },
  {
   "cell_type": "code",
   "execution_count": null,
   "id": "a60c0a93-6ea3-42da-8bee-b12c92fc18f5",
   "metadata": {},
   "outputs": [],
   "source": [
    "df = pd.read_csv('chargeback_dataset.csv')\n",
    "df.head()"
   ]
  },
  {
   "cell_type": "code",
   "execution_count": null,
   "id": "127e379b-e161-4aa8-ad68-96bf1581c845",
   "metadata": {},
   "outputs": [],
   "source": [
    "# Remove * from card numbers\n",
    "df['Card Number'] = df['Card Number'].str.replace('*', '')\n",
    "\n",
    "# Drop the serial numbers column\n",
    "df.drop(df.columns[0], axis=1, inplace=True)\n",
    "\n",
    "# Convert 'Yes' and 'No' class labels to 1 and 0 respectively\n",
    "df['CBK'] = df['CBK'].map({'Yes': 1, 'No': 0})"
   ]
  },
  {
   "cell_type": "code",
   "execution_count": null,
   "id": "41d315b6-17d9-4e72-acc2-cb14b8dbf13f",
   "metadata": {},
   "outputs": [],
   "source": [
    "# Convert date string to Pandas datetime\n",
    "df['Date'] = pd.to_datetime(df['Date'])"
   ]
  },
  {
   "cell_type": "code",
   "execution_count": null,
   "id": "81c7f206-0ec3-449c-a6d9-de1c40f119eb",
   "metadata": {},
   "outputs": [],
   "source": [
    "# Preprocessing for time of transaction\n",
    "\n",
    "# Extract the earliest date\n",
    "mindate = df['Date'].min()\n",
    "\n",
    "# Create a new feature for time of transaction and drop the day column\n",
    "df['Timestamp in Seconds'] = (df['Date'] - mindate).dt.total_seconds()"
   ]
  },
  {
   "cell_type": "code",
   "execution_count": null,
   "id": "8d095ae7-0724-49ad-aeda-5c97e30b0552",
   "metadata": {},
   "outputs": [],
   "source": [
    "df.info()"
   ]
  },
  {
   "cell_type": "markdown",
   "id": "09669b4b-cc51-4a79-a967-6d65cc673cc4",
   "metadata": {},
   "source": [
    "# Visualizations"
   ]
  },
  {
   "cell_type": "code",
   "execution_count": null,
   "id": "e11846aa-6a86-4f7b-aa0b-bffe69573830",
   "metadata": {},
   "outputs": [],
   "source": [
    "# Amount of fraudulent and legitimate transactions\n",
    "# Step 1: Count the occurrences of each category in the CBK column\n",
    "cbk_counts = df['CBK'].value_counts()\n",
    "\n",
    "# Step 2: Plot the pie chart\n",
    "plt.figure(figsize=(8, 8))\n",
    "plt.pie(\n",
    "    cbk_counts, \n",
    "    labels=cbk_counts.index,  # Categories as labels\n",
    "    autopct='%1.3f%%',  # Show percentages with 3 decimal\n",
    "    startangle=140  # Start angle for a better layout\n",
    ")\n",
    "\n",
    "# Step 3: Add a legend\n",
    "plt.legend(title=\"Categories\", labels=cbk_counts.index, loc=\"upper right\")\n",
    "\n",
    "# Step 4: Display the plot\n",
    "plt.title(\"CBK Distribution\")\n",
    "plt.show()"
   ]
  },
  {
   "cell_type": "code",
   "execution_count": null,
   "id": "bebc50c4-3a64-42cd-95cf-acc6c3f7556e",
   "metadata": {},
   "outputs": [],
   "source": [
    "# Amount vs chargeback fraud\n",
    "df.plot(kind='scatter', x='Amount', y='CBK', s=32, alpha=.8)\n",
    "plt.gca().spines[['top', 'right',]].set_visible(False)"
   ]
  },
  {
   "cell_type": "markdown",
   "id": "217fb342-92d6-4bd1-bed0-f94ee360e1cd",
   "metadata": {},
   "source": [
    "# Data Split and Oversampling"
   ]
  },
  {
   "cell_type": "code",
   "execution_count": null,
   "id": "89554a77-6c79-4318-a3ad-c51ef59b8bbb",
   "metadata": {},
   "outputs": [],
   "source": [
    "X = df[['Card Number', 'Amount', 'Timestamp in Seconds']]\n",
    "y = df['CBK']"
   ]
  },
  {
   "cell_type": "code",
   "execution_count": null,
   "id": "9d80f5ec-1e2f-43f2-8c03-0f0602672ffb",
   "metadata": {},
   "outputs": [],
   "source": [
    "# split the dataset into training and testing data\n",
    "X_train, X_test, y_train, y_test = train_test_split(X, y, test_size = 0.2, random_state = 42)"
   ]
  },
  {
   "cell_type": "code",
   "execution_count": null,
   "id": "c6ccbab3-4cbf-43ac-961c-4f99a98a2e31",
   "metadata": {},
   "outputs": [],
   "source": [
    "# Apply SMOTE-NC to the training data\n",
    "smoteNC = SMOTENC(categorical_features = [0, 2, 3], random_state=42, sampling_strategy = 0.9)\n",
    "X_train, y_train = smoteNC.fit_resample(X_train, y_train)"
   ]
  },
  {
   "cell_type": "code",
   "execution_count": null,
   "id": "8af8d344-471c-4936-99be-886cfbb9194b",
   "metadata": {},
   "outputs": [],
   "source": [
    "print(pd.Series(y_train).value_counts())"
   ]
  },
  {
   "cell_type": "markdown",
   "id": "da452873-2cc3-470a-adf7-d6cd63698d77",
   "metadata": {},
   "source": [
    "# Model Training"
   ]
  },
  {
   "cell_type": "markdown",
   "id": "68d5f4f7-de7c-45e8-8fae-afcf88a8cca0",
   "metadata": {},
   "source": [
    "Hyperparameter Tuning was done for all models, and the best model parameters only are included."
   ]
  },
  {
   "cell_type": "code",
   "execution_count": null,
   "id": "dfc49321-8dc5-4138-938b-94c8f5241b39",
   "metadata": {},
   "outputs": [],
   "source": [
    "# K-Nearest Neighbours Classifier\n",
    "nca = NeighborhoodComponentsAnalysis(random_state=42)\n",
    "knn = KNeighborsClassifier(n_neighbors=3, p=1, weights='distance', algorithm='kd_tree')\n",
    "nca_pipe = Pipeline([('nca', nca), ('knn', knn)])\n",
    "KNNmodel = nca_pipe.fit(X_train, y_train)"
   ]
  },
  {
   "cell_type": "code",
   "execution_count": null,
   "id": "4d7dcf0f-776c-42af-9efb-cea3e3c3f9d3",
   "metadata": {},
   "outputs": [],
   "source": [
    "# Decision Tree Classifier\n",
    "DTmodel = DecisionTreeClassifier(random_state=42, criterion= 'entropy', max_depth= None, min_samples_leaf= 1, min_samples_split=2)\n",
    "DTmodel.fit(X_train, y_train)"
   ]
  },
  {
   "cell_type": "code",
   "execution_count": null,
   "id": "199be734-7c59-49fe-b06f-8249fa92274c",
   "metadata": {},
   "outputs": [],
   "source": [
    "# Random Forest Classifier\n",
    "RFmodel = RandomForestClassifier(random_state=42, criterion='gini', min_samples_leaf= 1, min_samples_split= 2, n_estimators= 100)\n",
    "RFmodel.fit(X_train, y_train)"
   ]
  },
  {
   "cell_type": "code",
   "execution_count": null,
   "id": "4bca7cab-8824-4f6f-af45-0fdaf50488a6",
   "metadata": {},
   "outputs": [],
   "source": [
    "# AdaBoost Classifer\n",
    "# base estimator is a decision stump\n",
    "ABCmodel = AdaBoostClassifier(learning_rate=1.0, n_estimators=150, random_state=42)\n",
    "ABCmodel.fit(X_train, y_train)"
   ]
  },
  {
   "cell_type": "code",
   "execution_count": null,
   "id": "ff4ae852-1e5e-4632-9d0c-29c00571cdc4",
   "metadata": {},
   "outputs": [],
   "source": [
    "# XGBoost Classifier\n",
    "XGBmodel = xgb.XGBClassifier(learning_rate = 0.05, max_depth = 6, min_child_weight = 1, n_estimators = 300)\n",
    "XGBmodel.fit(X_train, y_train)"
   ]
  },
  {
   "cell_type": "code",
   "execution_count": null,
   "id": "e185219a-5636-4e18-a450-612e72a1fbd3",
   "metadata": {},
   "outputs": [],
   "source": [
    "# Stacking Classifier\n",
    "base_models = [\n",
    "    ('decision_tree', DecisionTreeClassifier(random_state=42)),\n",
    "    ('knn', KNeighborsClassifier(n_neighbors=3, p=1, weights='distance'))\n",
    "]\n",
    "meta_learner = xgb.XGBClassifier(random_state=42)\n",
    "\n",
    "# Create the stacking classifier\n",
    "stacking_clf = StackingClassifier(\n",
    "    estimators=base_models,\n",
    "    final_estimator=meta_learner3,\n",
    "    cv=3  # Cross-validation for training base models\n",
    ")\n",
    "\n",
    "# Train the stacking classifier\n",
    "stacking_clf.fit(X_train, y_train)"
   ]
  },
  {
   "cell_type": "markdown",
   "id": "aea52458-0e8e-4a95-89ad-12d999432633",
   "metadata": {},
   "source": [
    "# Results"
   ]
  },
  {
   "cell_type": "code",
   "execution_count": null,
   "id": "b3050fe8-1e38-44b4-8899-b4b7ca135eb5",
   "metadata": {},
   "outputs": [],
   "source": [
    "models_dict = {'K-Nearest Neighbours': KNNmodel, 'Decision Tree': DTmodel,\n",
    "               'Random Forest': RFmodel, 'XGBoost': XGBmodel,\n",
    "               'AdaBoost': ABCmodel, 'Stacking': stacking_clf}"
   ]
  },
  {
   "cell_type": "code",
   "execution_count": null,
   "id": "247057af-8b6d-4b95-86e0-f5bdc9a797b3",
   "metadata": {},
   "outputs": [],
   "source": [
    "def evaluate_models(models_dict, X_test, y_test):\n",
    "    \"\"\"\n",
    "    Evaluate multiple classifiers on test data and print performance metrics.\n",
    "\n",
    "    Parameters:\n",
    "    - models_dict (dict): Dictionary with model names as keys and trained models as values.\n",
    "    - X_test (array-like): Test features.\n",
    "    - y_test (array-like): True labels for the test set.\n",
    "    \"\"\"\n",
    "    for model_name, model in models_dict.items():\n",
    "        print(f\"\\nModel: {model_name}\")\n",
    "        try:\n",
    "            # Predict probabilities and labels\n",
    "            y_pred = model.predict(X_test)\n",
    "            y_proba = model.predict_proba(X_test)[:, 1] if hasattr(model, \"predict_proba\") else None\n",
    "\n",
    "            # Metrics\n",
    "            print(\"Confusion Matrix:\")\n",
    "            print(confusion_matrix(y_test, y_pred))\n",
    "\n",
    "            print(\"\\nClassification Report:\")\n",
    "            print(classification_report(y_test, y_pred))\n",
    "            acc = accuracy_score(y_test, y_pred)\n",
    "            prec = precision_score(y_test, y_pred, zero_division=0)\n",
    "            rec = recall_score(y_test, y_pred)\n",
    "            f1 = f1_score(y_test, y_pred)\n",
    "            roc_auc = roc_auc_score(y_test, y_proba) if y_proba is not None else  roc_auc = roc_auc_score(y_test, y_pred)\n",
    "\n",
    "            print(f\"\\nAccuracy: {acc:.4f}\")\n",
    "            print(f\"Precision: {prec:.4f}\")\n",
    "            print(f\"Recall: {rec:.4f}\")\n",
    "            print(f\"F1 Score: {f1:.4f}\")\n",
    "            print(f\"ROC AUC Score: {roc_auc:.4f}\")\n",
    "        \n",
    "        except Exception as e:\n",
    "            print(f\"An error occurred while evaluating {model_name}: {e}\")"
   ]
  },
  {
   "cell_type": "code",
   "execution_count": null,
   "id": "5526c373-4651-4301-a43b-1cbbdc7144e5",
   "metadata": {},
   "outputs": [],
   "source": [
    "evaluate_models(models_dict, X_test, y_test)"
   ]
  }
 ],
 "metadata": {
  "kernelspec": {
   "display_name": "Python 3 (ipykernel)",
   "language": "python",
   "name": "python3"
  },
  "language_info": {
   "codemirror_mode": {
    "name": "ipython",
    "version": 3
   },
   "file_extension": ".py",
   "mimetype": "text/x-python",
   "name": "python",
   "nbconvert_exporter": "python",
   "pygments_lexer": "ipython3",
   "version": "3.12.1"
  }
 },
 "nbformat": 4,
 "nbformat_minor": 5
}
